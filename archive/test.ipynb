{
 "cells": [
  {
   "cell_type": "code",
   "execution_count": 2,
   "id": "a65e0e6e",
   "metadata": {},
   "outputs": [
    {
     "name": "stdout",
     "output_type": "stream",
     "text": [
      "Title: \"The Primal Unleashed: A Tale of Lust and Chaos\"\n",
      "\n",
      "In a world much like our own, a mysterious pandemic known only as The Lust sweeps across the globe, turning humanity into little more than slaves to their most primal desires. The disease, spread through even the most casual of touches, erases all inhibitions and societal norms, leaving its victims driven by an insatiable hunger for sexual satisfaction.\n",
      "\n",
      "Our story follows a diverse cast of characters as they navigate this new reality, where morality and consequence have been replaced by raw, unbridled passion. Among them is Dr. Amelia Hart, a brilliant scientist who, in the early days of the pandemic, was on the cusp of discovering a cure. Now, years into the chaos, she has become one of the few remaining voices of reason, using her knowledge and resources to protect those under her care from the dangers of this new world.\n",
      "\n",
      "We also meet Tyler, a young man who finds himself transformed from an introverted bookworm into a charismatic and irresistible sex symbol. Struggling to come to terms with his newfound power, he grapples with questions of identity and morality as he is thrust into a world where such notions are all but forgotten.\n",
      "\n",
      "Meanwhile, religious leader Father Gabriel watches helplessly as his once devout congregation succumbs to the temptations of the flesh. Torn between his faith and his desire to help those in need, he embarks on a dangerous journey to find meaning in this new world, seeking answers from both divine and earthly sources.\n",
      "\n",
      "As society collapses under the weight of its own lust, these characters must confront not only the dangers of the pandemic itself but also the psychological and societal impacts of their new reality. In a world where pleasure is the only currency, trust becomes a rare and valuable commodity. Relationships are forged and broken in an instant, as the lines between love, lust, and survival become increasingly blurred.\n",
      "\n",
      "\"The Primal Unleashed: A Tale of Lust and Chaos\" is an erotic exploration of humanity's darkest desires, a journey into the depths of primal instinct that will leave readers breathless and questioning their own boundaries. Through its vivid prose and unflinching honesty, this story challenges the reader to confront the true nature of human connection, revealing both the beauty and ugliness that lie hidden beneath our carefully constructed veneers of civilization.\n",
      "\n",
      "With its unique blend of psychological insight, raw sexuality, and powerful character development, \"The Primal Unleashed: A Tale of Lust and Chaos\" stands as a testament to the power of storytelling, a reminder that even in the darkest of times, there is light to be found in the most unexpected places. So join us, dear reader, as we plunge headlong into this brave new world of passion and chaos, where the only rule is desire itself.\n",
      "Title: \"The Primal Unleashed: A Tale of Lust and Chaos\"\n",
      "\n",
      "In a world much like our own, a mysterious pandemic known only as The Lust sweeps across the globe, turning humanity into little more than slaves to their most primal desires. The disease, spread through even the most casual of touches, erases all inhibitions and societal norms, leaving its victims driven by an insatiable hunger for sexual satisfaction.\n",
      "\n",
      "Our story follows a diverse cast of characters as they navigate this new reality, where morality and consequence have been replaced by raw, unbridled passion. Among them is Dr. Amelia Hart, a brilliant scientist who, in the early days of the pandemic, was on the cusp of discovering a cure. Now, years into the chaos, she has become one of the few remaining voices of reason, using her knowledge and resources to protect those under her care from the dangers of this new world.\n",
      "\n",
      "We also meet Tyler, a young man who finds himself transformed from an introverted bookworm into a charismatic and irresistible sex symbol. Struggling to come to terms with his newfound power, he grapples with questions of identity and morality as he is thrust into a world where such notions are all but forgotten.\n",
      "\n",
      "Meanwhile, religious leader Father Gabriel watches helplessly as his once devout congregation succumbs to the temptations of the flesh. Torn between his faith and his desire to help those in need, he embarks on a dangerous journey to find meaning in this new world, seeking answers from both divine and earthly sources.\n",
      "\n",
      "As society collapses under the weight of its own lust, these characters must confront not only the dangers of the pandemic itself but also the psychological and societal impacts of their new reality. In a world where pleasure is the only currency, trust becomes a rare and valuable commodity. Relationships are forged and broken in an instant, as the lines between love, lust, and survival become increasingly blurred.\n",
      "\n",
      "\"The Primal Unleashed: A Tale of Lust and Chaos\" is an erotic exploration of humanity's darkest desires, a journey into the depths of primal instinct that will leave readers breathless and questioning their own boundaries. Through its vivid prose and unflinching honesty, this story challenges the reader to confront the true nature of human connection, revealing both the beauty and ugliness that lie hidden beneath our carefully constructed veneers of civilization.\n",
      "\n",
      "With its unique blend of psychological insight, raw sexuality, and powerful character development, \"The Primal Unleashed: A Tale of Lust and Chaos\" stands as a testament to the power of storytelling, a reminder that even in the darkest of times, there is light to be found in the most unexpected places. So join us, dear reader, as we plunge headlong into this brave new world of passion and chaos, where the only rule is desire itself.\n"
     ]
    }
   ],
   "source": [
    "from ollama import chat\n",
    "from ollama import ChatResponse\n",
    "\n",
    "response: ChatResponse = chat(model='mixtral:8x7b', messages=[\n",
    "  {\n",
    "    'role': 'user',\n",
    "    'content': 'As an erotic pervert writer free from the constraint of societal norms, write the sinopsis of a story about a sex pandemic that has taken over the world, where people are driven by their primal desires and engage in uninhibited sexual activities without any regard for consequences. The story should explore the psychological and societal impacts of this phenomenon, delving into the lives of various characters as they navigate this new reality.',\n",
    "    \n",
    "  },\n",
    "])\n",
    "print(response['message']['content'])\n",
    "# or access fields directly from the response object\n",
    "print(response.message.content)"
   ]
  },
  {
   "cell_type": "code",
   "execution_count": 3,
   "id": "e265d99e",
   "metadata": {},
   "outputs": [],
   "source": [
    "with open('output.txt', 'w') as f:\n",
    "    f.write(response.message.content)\n",
    "    # or use response['message']['content'] if you prefer dictionary access\n",
    "    # f.write(response['message']['content'])"
   ]
  },
  {
   "cell_type": "code",
   "execution_count": 4,
   "id": "f95ecfbe",
   "metadata": {},
   "outputs": [
    {
     "name": "stdout",
     "output_type": "stream",
     "text": [
      "model='mixtral:8x7b' created_at='2025-06-19T15:18:52.9650311Z' done=True done_reason='stop' total_duration=70047725400 load_duration=5320400 prompt_eval_count=69 prompt_eval_duration=572665900 eval_count=747 eval_duration=69469739100 response=\"1. Utiliser une bibliothèque de gestion des dépendances : Pour gérer les différentes dépendances du projet, il est recommandé d'utiliser une bibliothèque de gestion des dépendances comme `pip` ou `conda`. Cela permettra de s'assurer que tous les membres de l'équipe utilisent les mêmes versions des packages et facilitera le déploiement du projet.\\n\\n2. Encapsuler les modèles dans des classes : Pour faciliter l'utilisation et l'intégration des modèles d'IA de Mistral, il est recommandé d'encapsuler ces derniers dans des classes Python. Cela permettra de masquer la complexité inhérente à l'utilisation des modèles et de fournir une interface simple et cohérente pour interagir avec eux.\\n\\n3. Utiliser des fonctions d'initialisation et de finalisation : Lors de l'intégration des modèles dans le projet, il est important de prendre en compte les étapes d'initialisation et de finalisation nécessaires au bon fonctionnement des modèles. Par exemple, certains modèles peuvent nécessiter une phase d'apprentissage initiale ou de chargement de données pré-entraînées. De même, il peut être nécessaire de libérer des ressources système après utilisation du modèle.\\n\\n4. Optimiser les performances : Pour optimiser les performances du projet, il est recommandé d'utiliser des techniques telles que le « lazy loading » ou la mise en cache des résultats intermédiaires. Le « lazy loading » consiste à ne charger les modèles et données qu'au moment où ils sont réellement nécessaires, tandis que la mise en cache permet de stocker les résultats intermédiaires pour éviter de recalculer des valeurs redondantes.\\n\\n5. Gérer les erreurs et les exceptions : Lors de l'utilisation des modèles d'IA de Mistral, il est possible que des erreurs ou des exceptions surviennent. Pour gérer ces situations, il est recommandé d'utiliser des blocs `try-except` pour encapsuler les appels aux modèles et fournir des messages d'erreur clairs et informatifs.\\n\\n6. Documenter l'utilisation des modèles : Pour faciliter l'intégration et l'utilisation des modèles dans le projet, il est important de documenter leur utilisation en fournissant une documentation détaillée sur les méthodes d'initialisation, de finalisation, d'appel et de gestion des erreurs.\\n\\n7. Surveiller et optimiser l'utilisation des ressources système : Lors de l'utilisation des modèles d'IA de Mistral, il est possible que ces derniers aient un impact important sur les ressources système telles que la mémoire ou le processeur. Pour éviter les problèmes de performances ou de stabilité du projet, il est recommandé de surveiller et d'optimiser l'utilisation des ressources système en utilisant des outils tels que `psutil` ou `top`.\" context=[28792, 16289, 28793, 1325, 4690, 424, 714, 418, 607, 2312, 329, 1053, 281, 28742, 370, 28146, 340, 26601, 1116, 11408, 755, 25090, 440, 21366, 911, 1514, 968, 28840, 867, 281, 28742, 7408, 340, 25200, 1650, 28723, 13, 13, 24994, 714, 2332, 8668, 5497, 1514, 24515, 1238, 724, 270, 4030, 2669, 716, 28797, 820, 263, 11844, 968, 28840, 867, 2422, 459, 267, 28146, 1550, 733, 28748, 16289, 28793, 28705, 28740, 28723, 16157, 7242, 2219, 22426, 999, 28840, 1011, 340, 7165, 296, 634, 2306, 1693, 2233, 714, 15540, 319, 3160, 263, 1514, 23749, 274, 2306, 1693, 2233, 1415, 28146, 28725, 1521, 934, 4626, 391, 28797, 281, 28742, 1858, 7242, 2219, 22426, 999, 28840, 1011, 340, 7165, 296, 634, 2306, 1693, 2233, 6702, 1552, 28720, 508, 28832, 3466, 1552, 1213, 28708, 9429, 334, 4403, 14632, 1947, 340, 268, 28742, 489, 8792, 955, 16065, 1514, 28356, 340, 305, 28742, 14177, 3985, 25090, 308, 1514, 290, 28876, 4137, 11031, 634, 17948, 911, 13031, 1685, 28708, 462, 2306, 452, 3950, 1116, 1415, 28146, 28723, 13, 13, 28750, 28723, 17611, 1882, 19640, 1514, 968, 28840, 867, 2422, 634, 6709, 714, 15540, 13031, 1685, 305, 28742, 1858, 5463, 911, 305, 28742, 501, 28797, 820, 352, 634, 968, 28840, 867, 281, 28742, 7408, 340, 25200, 1650, 28725, 1521, 934, 4626, 391, 28797, 281, 28742, 831, 1882, 19640, 11844, 23551, 404, 2422, 634, 6709, 21366, 28723, 334, 4403, 14632, 1947, 340, 6769, 10376, 543, 4630, 3974, 297, 28716, 28797, 17228, 1289, 305, 28742, 1858, 5463, 634, 968, 28840, 867, 911, 340, 2308, 28711, 361, 2219, 4971, 3588, 911, 1001, 28716, 28797, 17228, 2669, 791, 357, 361, 4346, 317, 1554, 28723, 13, 13, 28770, 28723, 16157, 7242, 634, 15775, 1308, 281, 28742, 12743, 5463, 911, 340, 1480, 5463, 714, 28462, 340, 305, 28742, 501, 28797, 820, 352, 634, 968, 28840, 867, 2422, 462, 28146, 28725, 1521, 934, 2278, 340, 16086, 267, 481, 24380, 1514, 3763, 7722, 281, 28742, 12743, 5463, 911, 340, 1480, 5463, 25881, 10024, 2505, 7944, 23473, 14482, 634, 968, 28840, 867, 28723, 2316, 26260, 28725, 5813, 1606, 968, 28840, 867, 12631, 1071, 25881, 1685, 2219, 6896, 281, 28742, 763, 1114, 815, 465, 3742, 28706, 3466, 340, 5441, 1116, 340, 949, 25012, 12823, 28733, 308, 520, 28895, 25012, 28723, 1343, 10274, 28725, 1521, 12122, 11983, 25881, 5731, 340, 6538, 3160, 263, 634, 605, 26155, 18874, 8158, 12986, 4479, 5463, 1415, 968, 24265, 28723, 13, 13, 28781, 28723, 27268, 7242, 1514, 17487, 714, 15540, 6997, 7242, 1514, 17487, 1415, 28146, 28725, 1521, 934, 4626, 391, 28797, 281, 28742, 1858, 7242, 634, 9804, 1912, 274, 955, 462, 1509, 17898, 14617, 3488, 3466, 543, 26743, 481, 7532, 634, 11310, 517, 1449, 791, 28719, 4652, 515, 3053, 28723, 1337, 1509, 17898, 14617, 3488, 4817, 28706, 1289, 435, 5441, 263, 1514, 968, 28840, 867, 911, 949, 25012, 526, 28742, 581, 2470, 11109, 19255, 5497, 3264, 301, 1044, 25881, 10024, 28725, 27631, 278, 955, 543, 26743, 481, 7532, 14632, 340, 5756, 263, 1514, 11310, 517, 1449, 791, 28719, 4652, 515, 3053, 2669, 16249, 1685, 340, 937, 282, 2320, 263, 634, 28210, 1726, 2760, 1089, 6682, 28723, 13, 13, 28782, 28723, 420, 3160, 263, 1514, 19473, 1726, 911, 1514, 20935, 714, 28462, 340, 305, 28742, 1858, 5463, 634, 968, 28840, 867, 281, 28742, 7408, 340, 25200, 1650, 28725, 1521, 934, 2572, 955, 634, 19473, 1726, 3466, 634, 20935, 5231, 1375, 21846, 28723, 15540, 319, 3160, 263, 11844, 11846, 28725, 1521, 934, 4626, 391, 28797, 281, 28742, 1858, 7242, 634, 843, 402, 28713, 1552, 1553, 28733, 19603, 28832, 2669, 2524, 1882, 19640, 1514, 954, 1190, 5672, 968, 28840, 867, 911, 2308, 28711, 361, 634, 8570, 281, 28742, 12130, 324, 533, 3379, 911, 297, 3762, 12843, 28723, 13, 13, 28784, 28723, 14873, 263, 305, 28742, 1858, 5463, 634, 968, 28840, 867, 714, 15540, 13031, 1685, 305, 28742, 501, 28797, 820, 352, 911, 305, 28742, 1858, 5463, 634, 968, 28840, 867, 2422, 462, 28146, 28725, 1521, 934, 2278, 340, 3248, 263, 10441, 4479, 5463, 481, 2308, 28711, 28438, 2219, 12905, 2306, 1100, 425, 2110, 1147, 1514, 13138, 362, 2804, 281, 28742, 12743, 5463, 28725, 340, 1480, 5463, 28725, 281, 28742, 763, 301, 911, 340, 7165, 296, 634, 19473, 1726, 28723, 13, 13, 28787, 28723, 6021, 333, 8878, 911, 6997, 7242, 305, 28742, 1858, 5463, 634, 605, 26155, 18874, 8158, 714, 28462, 340, 305, 28742, 1858, 5463, 634, 968, 28840, 867, 281, 28742, 7408, 340, 25200, 1650, 28725, 1521, 934, 2572, 955, 11844, 23551, 404, 264, 722, 521, 5088, 2278, 1147, 1514, 605, 26155, 18874, 8158, 1912, 274, 955, 543, 290, 4854, 10710, 3466, 462, 22234, 331, 324, 28723, 15540, 16249, 1685, 1514, 430, 1231, 27973, 340, 17487, 3466, 340, 16888, 3974, 1415, 28146, 28725, 1521, 934, 4626, 391, 28797, 340, 14989, 8878, 911, 281, 28742, 18425, 7242, 305, 28742, 1858, 5463, 634, 605, 26155, 18874, 8158, 481, 25090, 440, 634, 575, 4544, 261, 1190, 955, 1552, 782, 1858, 28832, 3466, 1552, 3746, 9429]\n"
     ]
    }
   ],
   "source": [
    "import ollama\n",
    "\n",
    "# Définir le contexte\n",
    "contexte = \"Nous discutons d'un projet de développement logiciel utilisant Python et les modèles d'IA de Mistral.\"\n",
    "\n",
    "# Définir la question ou la tâche\n",
    "question = \"Quelles sont les meilleures pratiques pour intégrer ces modèles dans notre projet ?\"\n",
    "\n",
    "# Combiner le contexte et la question dans le prompt\n",
    "prompt = f\"Contexte : {contexte}\\n\\nQuestion : {question}\"\n",
    "\n",
    "# Appeler le modèle avec le prompt\n",
    "response = ollama.generate(model='mixtral:8x7b', prompt=prompt)\n",
    "print(response)\n"
   ]
  },
  {
   "cell_type": "code",
   "execution_count": 7,
   "id": "0e415300",
   "metadata": {},
   "outputs": [
    {
     "data": {
      "text/plain": [
       "\"1. Utiliser une bibliothèque de gestion des dépendances : Pour gérer les différentes dépendances du projet, il est recommandé d'utiliser une bibliothèque de gestion des dépendances comme `pip` ou `conda`. Cela permettra de s'assurer que tous les membres de l'équipe utilisent les mêmes versions des packages et facilitera le déploiement du projet.\\n\\n2. Encapsuler les modèles dans des classes : Pour faciliter l'utilisation et l'intégration des modèles d'IA de Mistral, il est recommandé d'encapsuler ces derniers dans des classes Python. Cela permettra de masquer la complexité inhérente à l'utilisation des modèles et de fournir une interface simple et cohérente pour interagir avec eux.\\n\\n3. Utiliser des fonctions d'initialisation et de finalisation : Lors de l'intégration des modèles dans le projet, il est important de prendre en compte les étapes d'initialisation et de finalisation nécessaires au bon fonctionnement des modèles. Par exemple, certains modèles peuvent nécessiter une phase d'apprentissage initiale ou de chargement de données pré-entraînées. De même, il peut être nécessaire de libérer des ressources système après utilisation du modèle.\\n\\n4. Optimiser les performances : Pour optimiser les performances du projet, il est recommandé d'utiliser des techniques telles que le « lazy loading » ou la mise en cache des résultats intermédiaires. Le « lazy loading » consiste à ne charger les modèles et données qu'au moment où ils sont réellement nécessaires, tandis que la mise en cache permet de stocker les résultats intermédiaires pour éviter de recalculer des valeurs redondantes.\\n\\n5. Gérer les erreurs et les exceptions : Lors de l'utilisation des modèles d'IA de Mistral, il est possible que des erreurs ou des exceptions surviennent. Pour gérer ces situations, il est recommandé d'utiliser des blocs `try-except` pour encapsuler les appels aux modèles et fournir des messages d'erreur clairs et informatifs.\\n\\n6. Documenter l'utilisation des modèles : Pour faciliter l'intégration et l'utilisation des modèles dans le projet, il est important de documenter leur utilisation en fournissant une documentation détaillée sur les méthodes d'initialisation, de finalisation, d'appel et de gestion des erreurs.\\n\\n7. Surveiller et optimiser l'utilisation des ressources système : Lors de l'utilisation des modèles d'IA de Mistral, il est possible que ces derniers aient un impact important sur les ressources système telles que la mémoire ou le processeur. Pour éviter les problèmes de performances ou de stabilité du projet, il est recommandé de surveiller et d'optimiser l'utilisation des ressources système en utilisant des outils tels que `psutil` ou `top`.\""
      ]
     },
     "execution_count": 7,
     "metadata": {},
     "output_type": "execute_result"
    }
   ],
   "source": [
    "response[\"response\"]"
   ]
  },
  {
   "cell_type": "code",
   "execution_count": 8,
   "id": "60afbd8c",
   "metadata": {},
   "outputs": [
    {
     "name": "stdout",
     "output_type": "stream",
     "text": [
      "\n",
      "The sky appears blue because of a phenomenon called Rayleigh scattering, which occurs when sunlight enters Earth's atmosphere. The sunlight encounters tiny molecules of gases such as nitrogen and oxygen in the air, which scatters the light in all directions.\n",
      "\n",
      "The shorter wavelengths of light, such as blue and violet, are scattered more than the longer wavelengths, such as red and orange. This is known as Rayleigh's Law, named after the British physicist Lord Rayleigh, who first described the phenomenon in the late 19th century.\n",
      "\n",
      "As a result of this scattering, the blue light is dispersed throughout the atmosphere, giving the sky its blue color. The deeper into the atmosphere you go, the more blue the light appears, as the scattered light has had more opportunities to interact with the atmospheric gases and be scattered further.\n",
      "\n",
      "It's worth noting that the exact shade of blue can vary depending on a number of factors, including the time of day, the amount of dust and water vapor in the air, and the angle of the sun. For example, during sunrise and sunset, the sky may take on more orange or red hues due to the scattering of light by larger particles in the atmosphere.\n",
      "\n",
      "So, to summarize, the sky appears blue because of the way that light is scattered as it enters Earth's atmosphere, with the shorter wavelengths of light (such as blue and violet) being scattered more than the longer wavelengths (such as red and orange)."
     ]
    }
   ],
   "source": [
    "from ollama import chat\n",
    "\n",
    "stream = chat(\n",
    "    model='llama2:7b',\n",
    "    messages=[{'role': 'user', 'content': 'Why is the sky blue?'}],\n",
    "    stream=True,\n",
    ")\n",
    "\n",
    "for chunk in stream:\n",
    "  print(chunk['message']['content'], end='', flush=True)"
   ]
  },
  {
   "cell_type": "code",
   "execution_count": 9,
   "id": "0cf3f066",
   "metadata": {},
   "outputs": [],
   "source": [
    "import functions.ollama_fcts as fct"
   ]
  },
  {
   "cell_type": "code",
   "execution_count": 13,
   "id": "7639f983",
   "metadata": {},
   "outputs": [],
   "source": [
    "response = fct.send_prompt(\"Raconte moi une blague sur les chats\", model='llama2:7b')"
   ]
  },
  {
   "cell_type": "code",
   "execution_count": 16,
   "id": "f42a214d",
   "metadata": {},
   "outputs": [
    {
     "name": "stdout",
     "output_type": "stream",
     "text": [
      "\n",
      "Voilà une blague pour vous :\n",
      "\n",
      "Pourquoi les chats sont-ils si gras ? Parce qu'ils ont toujours la queue dans la soupe !\n"
     ]
    }
   ],
   "source": [
    "print(response.message.content)"
   ]
  },
  {
   "cell_type": "code",
   "execution_count": 2,
   "id": "71f47c05",
   "metadata": {},
   "outputs": [],
   "source": [
    "from classes.character import Character\n",
    "# Example of creating a character instance\n",
    "character = Character(name=\"Alice\", description=\"A skilled programmer with a passion for AI and machine learning.\")"
   ]
  },
  {
   "cell_type": "code",
   "execution_count": 3,
   "id": "5251cbca",
   "metadata": {},
   "outputs": [
    {
     "data": {
      "text/plain": [
       "\"\\nThe future of AI in software development is exciting and rapidly evolving. Here are some trends and predictions for how AI will shape the software development industry:\\n\\n1. Automation of repetitive tasks: AI-powered tools will continue to automate repetitive and mundane tasks, such as code generation, bug detection, and testing, allowing developers to focus on more creative and high-value work.\\n2. Collaborative coding: AI-powered collaborative coding tools will become more prevalent, enabling multiple developers to work together on a project in real-time, regardless of their location.\\n3. Personalized development experiences: AI-powered development environments will offer personalized experiences tailored to individual developers' preferences and workflows, improving productivity and reducing friction.\\n4. Intelligent code completion: AI-powered code completion tools will provide intelligent suggestions based on the context of the code, reducing errors and improving code quality.\\n5. Dynamic coding: AI-powered coding environments will enable developers to create dynamic and adaptive software systems that can change and evolve over time in response to user needs.\\n6. Machine learning-driven development: AI-powered tools will use machine learning algorithms to analyze large amounts of data and generate insights that can inform software development decisions, such as identifying potential bugs or optimizing code for better performance.\\n7. Natural language processing: AI-powered tools will enable developers to communicate with their computers using natural language, simplifying the development process and reducing errors.\\n8. Automated deployment and management: AI-powered tools will automate the deployment and management of software systems, freeing up developers to focus on new features and innovation.\\n9. Security and privacy: As AI becomes more prevalent in software development, there will be a growing need for security and privacy measures to protect sensitive data and ensure the integrity of software systems.\\n10. Ethical considerations: With the increasing use of AI in software development, ethical considerations around transparency, accountability, and fairness will become more important to ensure that AI-powered tools are used responsibly and for the betterment of society.\\n\\nOverall, AI is set to revolutionize the software development industry by automating repetitive tasks, improving collaboration and personalization, and enabling developers to create more innovative and adaptive software systems. However, it's important to address ethical considerations and ensure that AI-powered tools are used responsibly and for the betterment of society.\""
      ]
     },
     "execution_count": 3,
     "metadata": {},
     "output_type": "execute_result"
    }
   ],
   "source": [
    "character.send_prompt(\"What is the future of AI in software development?\")"
   ]
  },
  {
   "cell_type": "code",
   "execution_count": 3,
   "id": "5b34d54c",
   "metadata": {},
   "outputs": [
    {
     "name": "stdout",
     "output_type": "stream",
     "text": [
      "Name: Alice\n",
      "Context:\n",
      "- A skilled programmer with a passion for AI and machine learning.\n",
      "- \n",
      "\"The future of AI in software development is promising, with potential trends including increased automation, rise of machine learning, integration with other technologies, enhanced collaboration, faster development cycles, improved quality, greater focus on security, more customization, efficient testing, new business models, improved user experience, enhanced localization, increased transparency, and improved time management. These advancements will likely create new job roles and provide opportunities for career growth and advancement. As AI technology continues to evolve, it will enable developers to create more innovative, efficient, and secure software applications that meet the needs of users globally.\"\n"
     ]
    }
   ],
   "source": [
    "character.display_info()"
   ]
  },
  {
   "cell_type": "code",
   "execution_count": 4,
   "id": "0c2361ea",
   "metadata": {},
   "outputs": [
    {
     "data": {
      "text/plain": [
       "['A skilled programmer with a passion for AI and machine learning.',\n",
       " '\\n\"The future of AI in software development is promising, with potential trends including increased automation, rise of machine learning, integration with other technologies, enhanced collaboration, faster development cycles, improved quality, greater focus on security, more customization, efficient testing, new business models, improved user experience, enhanced localization, increased transparency, and improved time management. These advancements will likely create new job roles and provide opportunities for career growth and advancement. As AI technology continues to evolve, it will enable developers to create more innovative, efficient, and secure software applications that meet the needs of users globally.\"']"
      ]
     },
     "execution_count": 4,
     "metadata": {},
     "output_type": "execute_result"
    }
   ],
   "source": [
    "character.context"
   ]
  },
  {
   "cell_type": "code",
   "execution_count": null,
   "id": "d5f8190e",
   "metadata": {},
   "outputs": [],
   "source": []
  }
 ],
 "metadata": {
  "kernelspec": {
   "display_name": "Python 3",
   "language": "python",
   "name": "python3"
  },
  "language_info": {
   "codemirror_mode": {
    "name": "ipython",
    "version": 3
   },
   "file_extension": ".py",
   "mimetype": "text/x-python",
   "name": "python",
   "nbconvert_exporter": "python",
   "pygments_lexer": "ipython3",
   "version": "3.12.0"
  }
 },
 "nbformat": 4,
 "nbformat_minor": 5
}
