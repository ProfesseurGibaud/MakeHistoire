{
 "cells": [
  {
   "cell_type": "code",
   "execution_count": 1,
   "id": "71f47c05",
   "metadata": {},
   "outputs": [],
   "source": [
    "from classes.character import Character\n",
    "# Example of creating a character instance\n",
    "character = Character(name=\"Alice\", description=\"I am a skilled programmer with a passion for AI and machine learning.\")"
   ]
  },
  {
   "cell_type": "code",
   "execution_count": 1,
   "id": "5b34d54c",
   "metadata": {},
   "outputs": [],
   "source": [
    "import functions.LLM as fct"
   ]
  },
  {
   "cell_type": "code",
   "execution_count": 2,
   "id": "dccc7b15",
   "metadata": {},
   "outputs": [],
   "source": [
    "response  = fct.send_prompt(\"How is your blanquet?\")"
   ]
  },
  {
   "cell_type": "code",
   "execution_count": 2,
   "id": "5251cbca",
   "metadata": {},
   "outputs": [
    {
     "name": "stdout",
     "output_type": "stream",
     "text": [
      "\n",
      "As a skilled programmer with a passion for AI and machine learning, you approach the closed door with a sense of curiosity and intrigue. You can't help but wonder what could be behind the door, whether it's a new project or an exciting opportunity. Your mind starts racing with possibilities as you consider the different scenarios that could await you on the other side.\n",
      "\n",
      "Personally, you feel a mix of emotions as you stand in front of the closed door. On one hand, you feel a sense of frustration and disappointment that the door is closed, indicating that there might be something important or exciting behind it that you're not able to access right now. On the other hand, you feel a sense of determination and motivation to find a way to open the door and discover what's on the other side.\n",
      "\n",
      "You start thinking about different strategies you could use to open the door, such as trying to pick the lock, finding a hidden key, or maybe even using your skills in AI and machine learning to create a device that can bypass the security measures and allow you to access what's behind the door.\n",
      "\n",
      "As you stand there, you realize that this closed door represents an obstacle in your path towards achieving your goals, but it also presents an opportunity for growth and exploration. You feel a sense of challenge and excitement at the prospect of finding a way to overcome the obstacle and discover what's on the other side.\n",
      "\n",
      "Do you:\n",
      "A) Try to pick the lock to open the door\n",
      "B) Search for a hidden key to unlock the door\n",
      "C) Use your skills in AI and machine learning to create a device to bypass the security measures\n",
      "D) Leave the door closed and focus on other tasks and projects\n",
      "E) Other (please specify in comments)\n"
     ]
    }
   ],
   "source": [
    "dd = character.make_action(\"You see a closed door in front of you\")\n",
    "print(dd)"
   ]
  },
  {
   "cell_type": "code",
   "execution_count": 9,
   "id": "96fb4e75",
   "metadata": {},
   "outputs": [
    {
     "name": "stdout",
     "output_type": "stream",
     "text": [
      "\n",
      "As a skilled programmer with a passion for AI and machine learning, I approach the closed door with a mix of curiosity and apprehension. On one hand, I'm excited to see what lies beyond the door - maybe it's a new challenge or an opportunity to learn something new. On the other hand, I'm also wary of what could be on the other side - perhaps it's something that could potentially hinder my progress or even threaten my safety.\n",
      "\n",
      "As an emotional human being, I can't help but feel a sense of unease as I approach the door. What if this is the moment when everything changes? What if this is the point of no return? The uncertainty and potential for change that lies beyond the door is both exhilarating and terrifying at the same time.\n",
      "\n",
      "I take a deep breath and push the door open, ready to face whatever lies ahead. As I step through the doorway, I can feel the weight of my past experiences and emotions bearing down on me, but I'm determined to keep moving forward, no matter what the future holds.\n"
     ]
    }
   ],
   "source": [
    "pp =character.make_thought(\"You see a closed door in front of you\")\n",
    "print(pp)"
   ]
  },
  {
   "cell_type": "code",
   "execution_count": 8,
   "id": "8787073e",
   "metadata": {},
   "outputs": [],
   "source": [
    "character.list_story =  []"
   ]
  },
  {
   "cell_type": "code",
   "execution_count": 10,
   "id": "e24908c6",
   "metadata": {},
   "outputs": [],
   "source": [
    "\n",
    "character.list_story.append(\"You see a closed door in front of you\")"
   ]
  },
  {
   "cell_type": "code",
   "execution_count": 6,
   "id": "f3c474fd",
   "metadata": {},
   "outputs": [
    {
     "name": "stdout",
     "output_type": "stream",
     "text": [
      "\n",
      "As a skilled programmer with a passion for AI and machine learning, you approach the closed door with a sense of curiosity and intrigue. You can't help but wonder what could be behind the door, whether it's a new project or an exciting opportunity. Your mind starts racing with possibilities as you consider the different scenarios that could await you on the other side.\n",
      "\n",
      "Personally, you feel a mix of emotions as you stand in front of the closed door. On one hand, you feel a sense of frustration and disappointment that the door is closed, indicating that there might be something important or exciting behind it that you're not able to access right now. On the other hand, you feel a sense of determination and motivation to find a way to open the door and discover what's on the other side.\n",
      "\n",
      "You start thinking about different strategies you could use to open the door, such as trying to pick the lock, finding a hidden key, or maybe even using your skills in AI and machine learning to create a device that can bypass the security measures and allow you to access what's behind the door.\n",
      "\n",
      "As you stand there, you realize that this closed door represents an obstacle in your path towards achieving your goals, but it also presents an opportunity for growth and exploration. You feel a sense of challenge and excitement at the prospect of finding a way to overcome the obstacle and discover what's on the other side.\n",
      "\n",
      "Do you:\n",
      "A) Try to pick the lock to open the door\n",
      "B) Search for a hidden key to unlock the door\n",
      "C) Use your skills in AI and machine learning to create a device to bypass the security measures\n",
      "D) Leave the door closed and focus on other tasks and projects\n",
      "E) Other (please specify in comments)\n"
     ]
    }
   ],
   "source": [
    "print(character.list_actions[0])"
   ]
  },
  {
   "cell_type": "code",
   "execution_count": 11,
   "id": "c79031a9",
   "metadata": {},
   "outputs": [
    {
     "name": "stdout",
     "output_type": "stream",
     "text": [
      "Summarized thought: You are a skilled programmer with a passion for AI and machine learning who approaches a closed door with a mix of curiosity and apprehension, feeling both excited about the potential opportunities beyond the door and wary of the unknown.\n",
      "Summarized action: As a skilled programmer with a passion for AI and machine learning, you decide to use your skills to create a device that can bypass the security measures and allow you to access what's behind the closed door.\n"
     ]
    }
   ],
   "source": [
    "character.summarize_with_ia()"
   ]
  },
  {
   "cell_type": "code",
   "execution_count": 8,
   "id": "a21753dd",
   "metadata": {},
   "outputs": [
    {
     "data": {
      "text/plain": [
       "\"\\nAs an emotional human being, seeing a closed door in front of me can elicit a range of feelings and reactions. Here are some personal responses I might have:\\n\\n1. Frustration: Ugh, why is this door closed? I need to get through it to reach my destination or achieve my goal. Why won't it budge? This is so frustrating!\\n2. Curiosity: What's behind that door? Is it a secret room? A hidden treasure? A new adventure? I can't help but feel curious and want to know more.\\n3. Fear: Closed doors can be ominous, especially if they lead to unknown or potentially dangerous places. My heart races as I approach the door, wondering what lies beyond it.\\n4. Excitement: Ah, a closed door! Perhaps it's an opportunity to explore something new and exciting. I feel a thrill of anticipation as I wonder what could be on the other side.\\n5. Disappointment: Closed doors can also symbolize limitations or restrictions. I feel a pang of disappointment as I realize that this door is blocking my path forward. Why can't I just open it and move on?\\n6. Determination: On the other hand, seeing a closed door can also inspire determination. I remind myself that there may be a way around or through the door, and I start thinking creatively about how to overcome the obstacle.\\n7. Reflection: Closed doors can also prompt introspection. I reflect on my own life and choices, wondering if there are areas where I've reached a dead end or if there are closed doors that need to be opened in order for me to move forward.\\n8. Nostalgia: For some reason, seeing a closed door can evoke nostalgic feelings. I remember times when I was younger and felt like I was at a crossroads, unsure of which path to take. The closed door represents a choice that I made or didn't make, leading me to where I am today.\\n9. Anxiety: Closed doors can also trigger anxiety, especially if they represent a loss or a challenge. I feel anxious about the unknown and wonder if I'll be able to overcome the obstacle or find a way around it.\\n10. Acceptance: Finally, seeing a closed door can inspire acceptance. I recognize that sometimes doors are closed for a reason, and that it's important to respect the boundaries and limitations in life. Maybe there's something else I need to focus on or explore instead of getting frustrated or anxious about the closed door.\\n\\nIn conclusion, the emotional response to seeing a closed door can vary widely depending on the individual and their personal experiences and feelings.\""
      ]
     },
     "execution_count": 8,
     "metadata": {},
     "output_type": "execute_result"
    }
   ],
   "source": [
    "character.list_actions[0]"
   ]
  },
  {
   "cell_type": "code",
   "execution_count": null,
   "id": "1060848f",
   "metadata": {},
   "outputs": [],
   "source": []
  }
 ],
 "metadata": {
  "kernelspec": {
   "display_name": "Python 3",
   "language": "python",
   "name": "python3"
  },
  "language_info": {
   "codemirror_mode": {
    "name": "ipython",
    "version": 3
   },
   "file_extension": ".py",
   "mimetype": "text/x-python",
   "name": "python",
   "nbconvert_exporter": "python",
   "pygments_lexer": "ipython3",
   "version": "3.12.0"
  }
 },
 "nbformat": 4,
 "nbformat_minor": 5
}
