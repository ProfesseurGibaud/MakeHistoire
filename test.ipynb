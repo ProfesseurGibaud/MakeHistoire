{
 "cells": [
  {
   "cell_type": "code",
   "execution_count": 10,
   "id": "53024b8b",
   "metadata": {},
   "outputs": [],
   "source": [
    "from ollama import chat as chat_ollama\n",
    "from ollama import ChatResponse as ChatResponse_ollama"
   ]
  },
  {
   "cell_type": "code",
   "execution_count": 1,
   "id": "71f47c05",
   "metadata": {},
   "outputs": [],
   "source": [
    "from classes.character import Character\n",
    "# Example of creating a character instance\n",
    "character = Character(name=\"Alice\", description=\"I am a skilled programmer with a passion for AI and machine learning.\")"
   ]
  },
  {
   "cell_type": "code",
   "execution_count": 2,
   "id": "5b34d54c",
   "metadata": {},
   "outputs": [],
   "source": [
    "import functions.LLM as fct"
   ]
  },
  {
   "cell_type": "code",
   "execution_count": 3,
   "id": "dccc7b15",
   "metadata": {},
   "outputs": [],
   "source": [
    "response  = fct.send_prompt(\"How is your blanquet?\")"
   ]
  },
  {
   "cell_type": "code",
   "execution_count": 4,
   "id": "5251cbca",
   "metadata": {},
   "outputs": [
    {
     "name": "stdout",
     "output_type": "stream",
     "text": [
      "\n",
      "As a skilled programmer with a passion for AI and machine learning, I approach the closed door with a mix of curiosity and skepticism. As a human being, I feel a sense of frustration and disappointment at not being able to access what lies beyond the door.\n",
      "\n",
      "I try to push the door open, but it doesn't budge. I examine the door more closely and notice that it has a strange symbol etched into it. It looks like a combination lock, but I don't know the code.\n",
      "\n",
      "I feel a surge of determination and decide to try and find a way to unlock the door. I examine the symbol more closely and notice that it seems to be made up of tiny gears and cogs. I wonder if there might be a mechanism hidden inside the symbol that could be used to unlock the door.\n",
      "\n",
      "I take out my phone and search for information on combination locks and mechanisms. After a few minutes, I find a video that shows how to pick a lock using nothing but a paper clip and a bit of ingenuity. I decide to give it a try.\n",
      "\n",
      "Using the paper clip, I carefully manipulate the gears and cogs inside the symbol until I feel the lock click open. The door creaks open, revealing a dimly lit room filled with strange and wondrous devices. I step inside, eager to explore this mysterious place.\n"
     ]
    }
   ],
   "source": [
    "dd = character.make_action(\"You see a closed door in front of you\")\n",
    "print(dd)"
   ]
  },
  {
   "cell_type": "code",
   "execution_count": 5,
   "id": "96fb4e75",
   "metadata": {},
   "outputs": [
    {
     "name": "stdout",
     "output_type": "stream",
     "text": [
      "\n",
      "As a skilled programmer with a passion for AI and machine learning, I approach the closed door with a mix of curiosity and skepticism. On one hand, I am eager to explore the unknown and uncover any potential opportunities or breakthroughs that may lie beyond the door. On the other hand, I am cautious about the possibility of encountering unexpected challenges or obstacles that could hinder my progress.\n",
      "\n",
      "Personally, I can't help but feel a sense of frustration and disappointment upon encountering the closed door. As someone who is deeply invested in the endless possibilities of technology and innovation, I find it disheartening to encounter a barrier that seems insurmountable. The door represents a challenge that I must overcome, but it also symbolizes the limitations of my own abilities and the vastness of the unknown.\n",
      "\n",
      "Despite my reservations, I am determined to find a way past the closed door. I consider various options, such as searching for alternative routes or seeking the assistance of others who may have more expertise or resources. I am confident in my ability to problem-solve and adapt to new situations, and I refuse to let this one obstacle stand in the way of my goals.\n",
      "\n",
      "As I ponder the closed door, I can't help but wonder what lies beyond it. Will I discover a groundbreaking discovery or unlock a hidden treasure? Or will I encounter an insurmountable challenge that tests my limits and pushes me to my breaking point? The uncertainty is exhilarating and terrifying at the same time, and I can't wait to find out what lies beyond the closed door.\n"
     ]
    }
   ],
   "source": [
    "pp =character.make_thought(\"You see a closed door in front of you\")\n",
    "print(pp)"
   ]
  },
  {
   "cell_type": "code",
   "execution_count": 6,
   "id": "8787073e",
   "metadata": {},
   "outputs": [],
   "source": [
    "character.list_story =  []"
   ]
  },
  {
   "cell_type": "code",
   "execution_count": 7,
   "id": "e24908c6",
   "metadata": {},
   "outputs": [],
   "source": [
    "character.list_story.append(\"You see a closed door in front of you\")"
   ]
  },
  {
   "cell_type": "code",
   "execution_count": 8,
   "id": "f3c474fd",
   "metadata": {},
   "outputs": [
    {
     "name": "stdout",
     "output_type": "stream",
     "text": [
      "\n",
      "As a skilled programmer with a passion for AI and machine learning, I approach the closed door with a mix of curiosity and skepticism. As a human being, I feel a sense of frustration and disappointment at not being able to access what lies beyond the door.\n",
      "\n",
      "I try to push the door open, but it doesn't budge. I examine the door more closely and notice that it has a strange symbol etched into it. It looks like a combination lock, but I don't know the code.\n",
      "\n",
      "I feel a surge of determination and decide to try and find a way to unlock the door. I examine the symbol more closely and notice that it seems to be made up of tiny gears and cogs. I wonder if there might be a mechanism hidden inside the symbol that could be used to unlock the door.\n",
      "\n",
      "I take out my phone and search for information on combination locks and mechanisms. After a few minutes, I find a video that shows how to pick a lock using nothing but a paper clip and a bit of ingenuity. I decide to give it a try.\n",
      "\n",
      "Using the paper clip, I carefully manipulate the gears and cogs inside the symbol until I feel the lock click open. The door creaks open, revealing a dimly lit room filled with strange and wondrous devices. I step inside, eager to explore this mysterious place.\n"
     ]
    }
   ],
   "source": [
    "print(character.list_actions[0])"
   ]
  },
  {
   "cell_type": "code",
   "execution_count": 9,
   "id": "c79031a9",
   "metadata": {},
   "outputs": [
    {
     "name": "stdout",
     "output_type": "stream",
     "text": [
      "Summarized thought: You are a skilled programmer with a passion for AI and machine learning who approaches a closed door with a mix of curiosity and skepticism. Despite feeling frustrated and disappointed by the barrier, you are determined to find a way past it and explore what lies beyond, considering various options and problem-solving strategies. The closed door represents both a challenge to be overcome and the vast unknown that lies ahead, filling you with a sense of excitement and uncertainty.\n",
      "Summarized action:  You approached a closed door with curiosity and skepticism as a skilled programmer and used your knowledge of combination locks and mechanisms to pick the lock and gain access to a dimly lit room filled with strange and wondrous devices.\n"
     ]
    }
   ],
   "source": [
    "character.summarize_with_ia()"
   ]
  },
  {
   "cell_type": "code",
   "execution_count": 8,
   "id": "a21753dd",
   "metadata": {},
   "outputs": [
    {
     "data": {
      "text/plain": [
       "\"\\nAs an emotional human being, seeing a closed door in front of me can elicit a range of feelings and reactions. Here are some personal responses I might have:\\n\\n1. Frustration: Ugh, why is this door closed? I need to get through it to reach my destination or achieve my goal. Why won't it budge? This is so frustrating!\\n2. Curiosity: What's behind that door? Is it a secret room? A hidden treasure? A new adventure? I can't help but feel curious and want to know more.\\n3. Fear: Closed doors can be ominous, especially if they lead to unknown or potentially dangerous places. My heart races as I approach the door, wondering what lies beyond it.\\n4. Excitement: Ah, a closed door! Perhaps it's an opportunity to explore something new and exciting. I feel a thrill of anticipation as I wonder what could be on the other side.\\n5. Disappointment: Closed doors can also symbolize limitations or restrictions. I feel a pang of disappointment as I realize that this door is blocking my path forward. Why can't I just open it and move on?\\n6. Determination: On the other hand, seeing a closed door can also inspire determination. I remind myself that there may be a way around or through the door, and I start thinking creatively about how to overcome the obstacle.\\n7. Reflection: Closed doors can also prompt introspection. I reflect on my own life and choices, wondering if there are areas where I've reached a dead end or if there are closed doors that need to be opened in order for me to move forward.\\n8. Nostalgia: For some reason, seeing a closed door can evoke nostalgic feelings. I remember times when I was younger and felt like I was at a crossroads, unsure of which path to take. The closed door represents a choice that I made or didn't make, leading me to where I am today.\\n9. Anxiety: Closed doors can also trigger anxiety, especially if they represent a loss or a challenge. I feel anxious about the unknown and wonder if I'll be able to overcome the obstacle or find a way around it.\\n10. Acceptance: Finally, seeing a closed door can inspire acceptance. I recognize that sometimes doors are closed for a reason, and that it's important to respect the boundaries and limitations in life. Maybe there's something else I need to focus on or explore instead of getting frustrated or anxious about the closed door.\\n\\nIn conclusion, the emotional response to seeing a closed door can vary widely depending on the individual and their personal experiences and feelings.\""
      ]
     },
     "execution_count": 8,
     "metadata": {},
     "output_type": "execute_result"
    }
   ],
   "source": [
    "character.list_actions[0]"
   ]
  },
  {
   "cell_type": "code",
   "execution_count": null,
   "id": "1060848f",
   "metadata": {},
   "outputs": [],
   "source": []
  }
 ],
 "metadata": {
  "kernelspec": {
   "display_name": "Python 3",
   "language": "python",
   "name": "python3"
  },
  "language_info": {
   "codemirror_mode": {
    "name": "ipython",
    "version": 3
   },
   "file_extension": ".py",
   "mimetype": "text/x-python",
   "name": "python",
   "nbconvert_exporter": "python",
   "pygments_lexer": "ipython3",
   "version": "3.12.0"
  }
 },
 "nbformat": 4,
 "nbformat_minor": 5
}
